{
 "cells": [
  {
   "cell_type": "markdown",
   "metadata": {},
   "source": [
    "# Week 0\n"
   ]
  },
  {
   "cell_type": "markdown",
   "metadata": {},
   "source": [
    "## Union and Intersection\n",
    "\n",
    "List A, length nA, sorted\n",
    "List B length nB, sorted\n",
    "\n",
    "### 2.1\n",
    "C = A and B\n",
    "\n",
    "Since both lists are sorted, we can run through list A and for each element we can check if it matches to an element in B with binary search. \n",
    "Since binary search is complexity O(logn) and we are running it for every element in A, the total complexity is O(nlogn).\n",
    "\n",
    "### 2.2\n",
    "C = A or B\n",
    "\n",
    "We should be able to use a slightly altered version of the merge algorithm, since both lists are already sorted. We just keep track of the largest number seen, and if we meet the same number in one of the lists, we don't add it, otherwise we merge the number to the new list. "
   ]
  },
  {
   "cell_type": "code",
   "execution_count": 4,
   "metadata": {},
   "outputs": [
    {
     "name": "stdout",
     "output_type": "stream",
     "text": [
      "Hello world!\n"
     ]
    }
   ],
   "source": [
    "print('Hello world!')"
   ]
  }
 ],
 "metadata": {
  "kernelspec": {
   "display_name": ".venv",
   "language": "python",
   "name": "python3"
  },
  "language_info": {
   "codemirror_mode": {
    "name": "ipython",
    "version": 3
   },
   "file_extension": ".py",
   "mimetype": "text/x-python",
   "name": "python",
   "nbconvert_exporter": "python",
   "pygments_lexer": "ipython3",
   "version": "3.11.2"
  },
  "orig_nbformat": 4
 },
 "nbformat": 4,
 "nbformat_minor": 2
}
